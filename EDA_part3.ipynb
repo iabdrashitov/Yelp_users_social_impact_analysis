{
 "cells": [
  {
   "cell_type": "code",
   "execution_count": 1,
   "metadata": {
    "collapsed": false
   },
   "outputs": [],
   "source": [
    "import matplotlib.pyplot as plt\n",
    "import matplotlib.dates as mdates\n",
    "import seaborn as sb\n",
    "import pandas as pd\n",
    "import numpy as np\n",
    "from pandas.io.json import json_normalize\n",
    "import json\n",
    "import pymongo\n",
    "import pprint\n",
    "from pymongo import MongoClient\n",
    "import datetime as dt\n",
    "%matplotlib inline"
   ]
  },
  {
   "cell_type": "code",
   "execution_count": 2,
   "metadata": {
    "collapsed": false
   },
   "outputs": [
    {
     "name": "stdout",
     "output_type": "stream",
     "text": [
      "...Connected\n"
     ]
    }
   ],
   "source": [
    "client = MongoClient('mongodb://localhost:27017')\n",
    "db = client.yelp\n",
    "con_check = str(db)\n",
    "if con_check.find('yelp') != int(-1):\n",
    "    print('...Connected')\n",
    "else:\n",
    "    print('...Connection Failed')"
   ]
  },
  {
   "cell_type": "code",
   "execution_count": 3,
   "metadata": {
    "collapsed": false
   },
   "outputs": [],
   "source": [
    "all_reviews = list(db.review.find({},{\"date\":1, \"user_id\":1, \"stars\":1}))"
   ]
  },
  {
   "cell_type": "code",
   "execution_count": 4,
   "metadata": {
    "collapsed": true
   },
   "outputs": [],
   "source": [
    "all_reviews_df = pd.DataFrame(all_reviews)\n",
    "all_reviews = []"
   ]
  },
  {
   "cell_type": "code",
   "execution_count": 5,
   "metadata": {
    "collapsed": false
   },
   "outputs": [
    {
     "data": {
      "text/html": [
       "<div>\n",
       "<table border=\"1\" class=\"dataframe\">\n",
       "  <thead>\n",
       "    <tr style=\"text-align: right;\">\n",
       "      <th></th>\n",
       "      <th>_id</th>\n",
       "      <th>date</th>\n",
       "      <th>stars</th>\n",
       "      <th>user_id</th>\n",
       "    </tr>\n",
       "  </thead>\n",
       "  <tbody>\n",
       "    <tr>\n",
       "      <th>0</th>\n",
       "      <td>57712bd37b99e7221552752f</td>\n",
       "      <td>2012-08-01</td>\n",
       "      <td>4</td>\n",
       "      <td>PUFPaY9KxDAcGqfsorJp3Q</td>\n",
       "    </tr>\n",
       "    <tr>\n",
       "      <th>1</th>\n",
       "      <td>57712bd37b99e72215527530</td>\n",
       "      <td>2015-10-31</td>\n",
       "      <td>5</td>\n",
       "      <td>auESFwWvW42h6alXgFxAXQ</td>\n",
       "    </tr>\n",
       "  </tbody>\n",
       "</table>\n",
       "</div>"
      ],
      "text/plain": [
       "                        _id        date  stars                 user_id\n",
       "0  57712bd37b99e7221552752f  2012-08-01      4  PUFPaY9KxDAcGqfsorJp3Q\n",
       "1  57712bd37b99e72215527530  2015-10-31      5  auESFwWvW42h6alXgFxAXQ"
      ]
     },
     "execution_count": 5,
     "metadata": {},
     "output_type": "execute_result"
    }
   ],
   "source": [
    "all_reviews_df.head(2)"
   ]
  },
  {
   "cell_type": "code",
   "execution_count": 6,
   "metadata": {
    "collapsed": true
   },
   "outputs": [],
   "source": [
    "dates = list(all_reviews_df.date)\n",
    "all_dates = [dt.datetime.strptime(d,'%Y-%m-%d').date() for d in dates]\n",
    "dates = []"
   ]
  },
  {
   "cell_type": "code",
   "execution_count": 7,
   "metadata": {
    "collapsed": false
   },
   "outputs": [],
   "source": [
    "months= list()\n",
    "mcount = min(all_dates)  \n",
    "\n",
    "monthly_reviews_list = list()\n",
    "monthly_stars_avg_list = list()\n",
    "\n",
    "while mcount <= max(all_dates):\n",
    "    months.append(mcount)\n",
    "    mcount = mcount + 4 * dt.timedelta(7)\n",
    "\n",
    "for month in months:\n",
    "    monthly_review_count = 0.0\n",
    "    monthly_stars_sum = 0.0\n",
    "    monthly_stars_avg = 0.0\n",
    "    date_index = 0\n",
    "\n",
    "    for date in all_reviews_df.date :\n",
    "        date = dt.datetime.strptime(date,'%Y-%m-%d').date()\n",
    "        \n",
    "        if date >= month and date <= month + 4 * dt.timedelta(6):\n",
    "            monthly_review_count = 1 + monthly_review_count\n",
    "            monthly_stars_sum = monthly_stars_sum + all_reviews_df.stars[date_index]\n",
    "            monthly_stars_avg = monthly_stars_sum / monthly_review_count\n",
    "\n",
    "        date_index = date_index + 1\n",
    "        \n",
    "    monthly_reviews_list.append(monthly_review_count)\n",
    "    monthly_stars_avg_list.append(monthly_stars_avg)"
   ]
  },
  {
   "cell_type": "code",
   "execution_count": 8,
   "metadata": {
    "collapsed": false
   },
   "outputs": [
    {
     "data": {
      "text/plain": [
       "<matplotlib.text.Text at 0x23e87b63cf8>"
      ]
     },
     "execution_count": 8,
     "metadata": {},
     "output_type": "execute_result"
    },
    {
     "data": {
      "image/png": "[encoded data removed]",
      "text/plain": [
       "<matplotlib.figure.Figure at 0x23ed7879748>"
      ]
     },
     "metadata": {},
     "output_type": "display_data"
    }
   ],
   "source": [
    "fig, ax = plt.subplots(figsize=(20,5))\n",
    "ax.plot(months, monthly_reviews_list,alpha=1)\n",
    "ax.set_title('Yelp Global Reviews Monthly (4 Weeks) Dynamics')\n",
    "ax.set_xlabel('Years')\n",
    "ax.set_ylabel('Number of Reviews / Month')\n"
   ]
  },
  {
   "cell_type": "code",
   "execution_count": null,
   "metadata": {
    "collapsed": true
   },
   "outputs": [],
   "source": []
  },
  {
   "cell_type": "code",
   "execution_count": null,
   "metadata": {
    "collapsed": false
   },
   "outputs": [],
   "source": []
  },
  {
   "cell_type": "code",
   "execution_count": null,
   "metadata": {
    "collapsed": false
   },
   "outputs": [],
   "source": []
  },
  {
   "cell_type": "code",
   "execution_count": null,
   "metadata": {
    "collapsed": true
   },
   "outputs": [],
   "source": []
  },
  {
   "cell_type": "code",
   "execution_count": null,
   "metadata": {
    "collapsed": true
   },
   "outputs": [],
   "source": []
  }
 ],
 "metadata": {
  "kernelspec": {
   "display_name": "Python 3",
   "language": "python",
   "name": "python3"
  },
  "language_info": {
   "codemirror_mode": {
    "name": "ipython",
    "version": 3
   },
   "file_extension": ".py",
   "mimetype": "text/x-python",
   "name": "python",
   "nbconvert_exporter": "python",
   "pygments_lexer": "ipython3",
   "version": "3.5.1"
  }
 },
 "nbformat": 4,
 "nbformat_minor": 0
}
